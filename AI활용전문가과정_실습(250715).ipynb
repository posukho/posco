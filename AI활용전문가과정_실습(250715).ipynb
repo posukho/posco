{
  "nbformat": 4,
  "nbformat_minor": 0,
  "metadata": {
    "colab": {
      "provenance": [],
      "authorship_tag": "ABX9TyMJuCQ1PMJp5MfO4nmn9nnf",
      "include_colab_link": true
    },
    "kernelspec": {
      "name": "python3",
      "display_name": "Python 3"
    },
    "language_info": {
      "name": "python"
    }
  },
  "cells": [
    {
      "cell_type": "markdown",
      "metadata": {
        "id": "view-in-github",
        "colab_type": "text"
      },
      "source": [
        "<a href=\"https://colab.research.google.com/github/posukho/posco/blob/main/AI%ED%99%9C%EC%9A%A9%EC%A0%84%EB%AC%B8%EA%B0%80%EA%B3%BC%EC%A0%95_%EC%8B%A4%EC%8A%B5(250715).ipynb\" target=\"_parent\"><img src=\"https://colab.research.google.com/assets/colab-badge.svg\" alt=\"Open In Colab\"/></a>"
      ]
    },
    {
      "cell_type": "code",
      "execution_count": null,
      "metadata": {
        "id": "batOCjZVM--f"
      },
      "outputs": [],
      "source": []
    }
  ]
}